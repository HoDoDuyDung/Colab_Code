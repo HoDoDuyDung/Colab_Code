{
  "nbformat": 4,
  "nbformat_minor": 0,
  "metadata": {
    "colab": {
      "provenance": [],
      "gpuType": "T4",
      "mount_file_id": "1TXHVeOypOOe88TorvaUPWHJxXTfpjeDG",
      "authorship_tag": "ABX9TyNTdg6J1Rd4RfC5KvJV4CsJ",
      "include_colab_link": true
    },
    "kernelspec": {
      "name": "python3",
      "display_name": "Python 3"
    },
    "language_info": {
      "name": "python"
    },
    "accelerator": "GPU",
    "gpuClass": "standard"
  },
  "cells": [
    {
      "cell_type": "markdown",
      "metadata": {
        "id": "view-in-github",
        "colab_type": "text"
      },
      "source": [
        "<a href=\"https://colab.research.google.com/github/HoDoDuyDung/Colab_Code/blob/main/HoDoDuyDung_20146235_AI_FinalProject.ipynb\" target=\"_parent\"><img src=\"https://colab.research.google.com/assets/colab-badge.svg\" alt=\"Open In Colab\"/></a>"
      ]
    },
    {
      "cell_type": "code",
      "execution_count": null,
      "metadata": {
        "colab": {
          "base_uri": "https://localhost:8080/"
        },
        "id": "JzgLqp2sZH6J",
        "outputId": "ccb94681-46f7-47a3-c1f4-731030eabfeb"
      },
      "outputs": [
        {
          "output_type": "stream",
          "name": "stdout",
          "text": [
            "Drive already mounted at /content/drive; to attempt to forcibly remount, call drive.mount(\"/content/drive\", force_remount=True).\n"
          ]
        }
      ],
      "source": [
        "from google.colab import drive\n",
        "drive.mount('/content/drive')"
      ]
    },
    {
      "cell_type": "code",
      "source": [
        "import matplotlib.pyplot as plt\n",
        "from keras.models import load_model\n",
        "from matplotlib.image import imread\n",
        "folder = '/content/drive/MyDrive/FinalProjectData/'\n",
        "for i in range(13):\n",
        "  plt.subplot(10,6,i+1)\n",
        "  filename=folder+'Warning ('+str(i)+').jpg'\n",
        "  img=imread(filename)\n",
        "  plt.imshow(img)\n",
        "plt.show()"
      ],
      "metadata": {
        "colab": {
          "base_uri": "https://localhost:8080/",
          "height": 172
        },
        "id": "tEJCS5Orot6-",
        "outputId": "1429c311-3efc-4c66-9664-f74b9a685aa1"
      },
      "execution_count": null,
      "outputs": [
        {
          "output_type": "display_data",
          "data": {
            "text/plain": [
              "<Figure size 640x480 with 13 Axes>"
            ],
            "image/png": "[encoded data removed]"
          },
          "metadata": {}
        }
      ]
    },
    {
      "cell_type": "code",
      "source": [
        "from os import listdir\n",
        "from numpy import asarray,save\n",
        "from keras.utils import load_img, img_to_array\n",
        "folder = '/content/drive/MyDrive/FinalProjectData/'\n",
        "photos,labels=list(),list()\n",
        "for file in listdir(folder):\n",
        "  output=0.0\n",
        "  if file.startswith('Prohibition'):\n",
        "    output=1.0\n",
        "  if file.startswith('Mandatory'):\n",
        "    output=2.0\n",
        "  if file.startswith('Indication'):\n",
        "    output=3.0\n",
        "  if file.startswith('Warning'):\n",
        "    output=4.0  \n",
        "  img=load_img(folder+file, target_size=(30,40))\n",
        "  photo=img_to_array(img)\n",
        "  photos.append(photo)\n",
        "  labels.append(output)\n",
        "photos=asarray(photos)\n",
        "labels=asarray(labels)\n",
        "print(photos.shape,labels.shape)\n",
        "save('TrafficSigns_photos.npy',photos)\n",
        "save('TrafficSigns_labels.npy',labels)"
      ],
      "metadata": {
        "id": "7YV6fRiyfHM0",
        "colab": {
          "base_uri": "https://localhost:8080/"
        },
        "outputId": "f02dfc97-8ab6-4192-ecb6-365f2ae85cb2"
      },
      "execution_count": null,
      "outputs": [
        {
          "output_type": "stream",
          "name": "stdout",
          "text": [
            "(181, 30, 40, 3) (181,)\n"
          ]
        }
      ]
    },
    {
      "cell_type": "code",
      "source": [
        "import numpy as np\n",
        "x_train = np.load('/content/TrafficSigns_photos.npy')\n",
        "y_train = np.load('/content/TrafficSigns_labels.npy')\n",
        "print(x_train.shape)\n",
        "print(y_train.shape)\n",
        "x=x_train\n",
        "y=y_train\n",
        "from keras.utils import to_categorical\n",
        "x_train = x_train.astype('float32')/255\n",
        "y_train = to_categorical(y_train,100)"
      ],
      "metadata": {
        "id": "qa_K5AWCfW7U",
        "colab": {
          "base_uri": "https://localhost:8080/"
        },
        "outputId": "e3037bc3-8022-46a8-b401-fb8dcf133fa5"
      },
      "execution_count": null,
      "outputs": [
        {
          "output_type": "stream",
          "name": "stdout",
          "text": [
            "(181, 30, 40, 3)\n",
            "(181,)\n"
          ]
        }
      ]
    },
    {
      "cell_type": "code",
      "source": [
        "from keras.backend import flatten\n",
        "from keras.models import Sequential\n",
        "from keras.layers import Dense,Dropout,Flatten,Conv2D,MaxPooling2D,Normalization,LeakyReLU\n",
        "from keras.optimizers import Adam\n",
        "#32 lần\n",
        "model = Sequential()\n",
        "model.add(Conv2D(32,kernel_size = (3,3),activation = 'relu',input_shape=(30,40,3),padding='Same'))\n",
        "model.add(MaxPooling2D((2,2),padding='same'))\n",
        "model.add(Dropout(0.25))\n",
        "\n",
        "#64 lần\n",
        "model.add(Conv2D(64,(3,3),activation ='relu',padding ='same'))\n",
        "model.add(MaxPooling2D((2,2),padding='same'))\n",
        "model.add(Dropout(0.25))\n",
        "\n",
        "#128 lần\n",
        "model.add(Conv2D(128,(3,3),activation ='relu',padding ='same'))\n",
        "model.add(MaxPooling2D((2,2),padding='same'))\n",
        "model.add(Dropout(0.25))\n",
        "\n",
        "#256 lần\n",
        "model.add(Conv2D(256,(3,3),activation ='relu',padding ='same'))\n",
        "model.add(MaxPooling2D((2,2),padding='same'))\n",
        "model.add(Dropout(0.25))\n",
        "\n",
        "model.add(Flatten())\n",
        "model.add(Dense(256,activation='relu'))\n",
        "model.add(LeakyReLU(alpha=0.1))\n",
        "model.add(Dense(100,activation='softmax'))\n",
        "\n",
        "from keras.losses import categorical_crossentropy\n",
        "model.compile(loss='categorical_crossentropy',optimizer=Adam(),metrics=['accuracy'])\n",
        "model.summary()\n",
        "train = model.fit(x_train,y_train,epochs=100,batch_size=64,verbose=1)"
      ],
      "metadata": {
        "id": "f35SG-YbfZB0",
        "colab": {
          "base_uri": "https://localhost:8080/"
        },
        "outputId": "ed5f45b1-be25-444a-c1f1-7a4a0c134a21"
      },
      "execution_count": null,
      "outputs": [
        {
          "output_type": "stream",
          "name": "stdout",
          "text": [
            "Model: \"sequential\"\n",
            "_________________________________________________________________\n",
            " Layer (type)                Output Shape              Param #   \n",
            "=================================================================\n",
            " conv2d (Conv2D)             (None, 30, 40, 32)        896       \n",
            "                                                                 \n",
            " max_pooling2d (MaxPooling2D  (None, 15, 20, 32)       0         \n",
            " )                                                               \n",
            "                                                                 \n",
            " dropout (Dropout)           (None, 15, 20, 32)        0         \n",
            "                                                                 \n",
            " conv2d_1 (Conv2D)           (None, 15, 20, 64)        18496     \n",
            "                                                                 \n",
            " max_pooling2d_1 (MaxPooling  (None, 8, 10, 64)        0         \n",
            " 2D)                                                             \n",
            "                                                                 \n",
            " dropout_1 (Dropout)         (None, 8, 10, 64)         0         \n",
            "                                                                 \n",
            " conv2d_2 (Conv2D)           (None, 8, 10, 128)        73856     \n",
            "                                                                 \n",
            " max_pooling2d_2 (MaxPooling  (None, 4, 5, 128)        0         \n",
            " 2D)                                                             \n",
            "                                                                 \n",
            " dropout_2 (Dropout)         (None, 4, 5, 128)         0         \n",
            "                                                                 \n",
            " conv2d_3 (Conv2D)           (None, 4, 5, 256)         295168    \n",
            "                                                                 \n",
            " max_pooling2d_3 (MaxPooling  (None, 2, 3, 256)        0         \n",
            " 2D)                                                             \n",
            "                                                                 \n",
            " dropout_3 (Dropout)         (None, 2, 3, 256)         0         \n",
            "                                                                 \n",
            " flatten (Flatten)           (None, 1536)              0         \n",
            "                                                                 \n",
            " dense (Dense)               (None, 256)               393472    \n",
            "                                                                 \n",
            " leaky_re_lu (LeakyReLU)     (None, 256)               0         \n",
            "                                                                 \n",
            " dense_1 (Dense)             (None, 100)               25700     \n",
            "                                                                 \n",
            "=================================================================\n",
            "Total params: 807,588\n",
            "Trainable params: 807,588\n",
            "Non-trainable params: 0\n",
            "_________________________________________________________________\n",
            "Epoch 1/100\n",
            "3/3 [==============================] - 10s 159ms/step - loss: 3.7916 - accuracy: 0.2983\n",
            "Epoch 2/100\n",
            "3/3 [==============================] - 0s 12ms/step - loss: 1.8467 - accuracy: 0.2873\n",
            "Epoch 3/100\n",
            "3/3 [==============================] - 0s 10ms/step - loss: 1.3464 - accuracy: 0.4365\n",
            "Epoch 4/100\n",
            "3/3 [==============================] - 0s 10ms/step - loss: 1.1220 - accuracy: 0.4917\n",
            "Epoch 5/100\n",
            "3/3 [==============================] - 0s 10ms/step - loss: 0.8704 - accuracy: 0.7569\n",
            "Epoch 6/100\n",
            "3/3 [==============================] - 0s 10ms/step - loss: 0.6469 - accuracy: 0.8453\n",
            "Epoch 7/100\n",
            "3/3 [==============================] - 0s 10ms/step - loss: 0.5494 - accuracy: 0.8619\n",
            "Epoch 8/100\n",
            "3/3 [==============================] - 0s 9ms/step - loss: 0.4199 - accuracy: 0.8177\n",
            "Epoch 9/100\n",
            "3/3 [==============================] - 0s 10ms/step - loss: 0.3079 - accuracy: 0.8619\n",
            "Epoch 10/100\n",
            "3/3 [==============================] - 0s 10ms/step - loss: 0.3280 - accuracy: 0.8895\n",
            "Epoch 11/100\n",
            "3/3 [==============================] - 0s 10ms/step - loss: 0.2938 - accuracy: 0.8729\n",
            "Epoch 12/100\n",
            "3/3 [==============================] - 0s 10ms/step - loss: 0.3346 - accuracy: 0.9006\n",
            "Epoch 13/100\n",
            "3/3 [==============================] - 0s 9ms/step - loss: 0.2811 - accuracy: 0.9061\n",
            "Epoch 14/100\n",
            "3/3 [==============================] - 0s 10ms/step - loss: 0.2440 - accuracy: 0.9006\n",
            "Epoch 15/100\n",
            "3/3 [==============================] - 0s 10ms/step - loss: 0.2479 - accuracy: 0.8950\n",
            "Epoch 16/100\n",
            "3/3 [==============================] - 0s 10ms/step - loss: 0.2556 - accuracy: 0.9006\n",
            "Epoch 17/100\n",
            "3/3 [==============================] - 0s 9ms/step - loss: 0.2253 - accuracy: 0.9006\n",
            "Epoch 18/100\n",
            "3/3 [==============================] - 0s 10ms/step - loss: 0.2188 - accuracy: 0.9006\n",
            "Epoch 19/100\n",
            "3/3 [==============================] - 0s 10ms/step - loss: 0.2008 - accuracy: 0.9061\n",
            "Epoch 20/100\n",
            "3/3 [==============================] - 0s 13ms/step - loss: 0.1982 - accuracy: 0.9337\n",
            "Epoch 21/100\n",
            "3/3 [==============================] - 0s 10ms/step - loss: 0.1938 - accuracy: 0.9006\n",
            "Epoch 22/100\n",
            "3/3 [==============================] - 0s 11ms/step - loss: 0.1734 - accuracy: 0.9282\n",
            "Epoch 23/100\n",
            "3/3 [==============================] - 0s 10ms/step - loss: 0.1776 - accuracy: 0.9282\n",
            "Epoch 24/100\n",
            "3/3 [==============================] - 0s 10ms/step - loss: 0.2015 - accuracy: 0.9171\n",
            "Epoch 25/100\n",
            "3/3 [==============================] - 0s 10ms/step - loss: 0.1709 - accuracy: 0.9171\n",
            "Epoch 26/100\n",
            "3/3 [==============================] - 0s 10ms/step - loss: 0.1685 - accuracy: 0.9282\n",
            "Epoch 27/100\n",
            "3/3 [==============================] - 0s 10ms/step - loss: 0.1700 - accuracy: 0.9227\n",
            "Epoch 28/100\n",
            "3/3 [==============================] - 0s 11ms/step - loss: 0.1642 - accuracy: 0.9227\n",
            "Epoch 29/100\n",
            "3/3 [==============================] - 0s 11ms/step - loss: 0.1543 - accuracy: 0.9171\n",
            "Epoch 30/100\n",
            "3/3 [==============================] - 0s 10ms/step - loss: 0.1484 - accuracy: 0.9171\n",
            "Epoch 31/100\n",
            "3/3 [==============================] - 0s 10ms/step - loss: 0.1562 - accuracy: 0.9337\n",
            "Epoch 32/100\n",
            "3/3 [==============================] - 0s 9ms/step - loss: 0.1360 - accuracy: 0.9392\n",
            "Epoch 33/100\n",
            "3/3 [==============================] - 0s 10ms/step - loss: 0.1333 - accuracy: 0.9337\n",
            "Epoch 34/100\n",
            "3/3 [==============================] - 0s 10ms/step - loss: 0.1319 - accuracy: 0.9503\n",
            "Epoch 35/100\n",
            "3/3 [==============================] - 0s 10ms/step - loss: 0.1142 - accuracy: 0.9392\n",
            "Epoch 36/100\n",
            "3/3 [==============================] - 0s 11ms/step - loss: 0.1271 - accuracy: 0.9448\n",
            "Epoch 37/100\n",
            "3/3 [==============================] - 0s 9ms/step - loss: 0.1201 - accuracy: 0.9448\n",
            "Epoch 38/100\n",
            "3/3 [==============================] - 0s 9ms/step - loss: 0.1220 - accuracy: 0.9337\n",
            "Epoch 39/100\n",
            "3/3 [==============================] - 0s 9ms/step - loss: 0.1113 - accuracy: 0.9448\n",
            "Epoch 40/100\n",
            "3/3 [==============================] - 0s 9ms/step - loss: 0.1161 - accuracy: 0.9392\n",
            "Epoch 41/100\n",
            "3/3 [==============================] - 0s 10ms/step - loss: 0.0897 - accuracy: 0.9558\n",
            "Epoch 42/100\n",
            "3/3 [==============================] - 0s 10ms/step - loss: 0.0938 - accuracy: 0.9669\n",
            "Epoch 43/100\n",
            "3/3 [==============================] - 0s 10ms/step - loss: 0.1005 - accuracy: 0.9558\n",
            "Epoch 44/100\n",
            "3/3 [==============================] - 0s 10ms/step - loss: 0.0755 - accuracy: 0.9834\n",
            "Epoch 45/100\n",
            "3/3 [==============================] - 0s 10ms/step - loss: 0.0946 - accuracy: 0.9834\n",
            "Epoch 46/100\n",
            "3/3 [==============================] - 0s 10ms/step - loss: 0.0785 - accuracy: 0.9558\n",
            "Epoch 47/100\n",
            "3/3 [==============================] - 0s 10ms/step - loss: 0.0684 - accuracy: 0.9724\n",
            "Epoch 48/100\n",
            "3/3 [==============================] - 0s 9ms/step - loss: 0.0639 - accuracy: 0.9779\n",
            "Epoch 49/100\n",
            "3/3 [==============================] - 0s 10ms/step - loss: 0.0842 - accuracy: 0.9613\n",
            "Epoch 50/100\n",
            "3/3 [==============================] - 0s 11ms/step - loss: 0.0547 - accuracy: 0.9779\n",
            "Epoch 51/100\n",
            "3/3 [==============================] - 0s 11ms/step - loss: 0.0570 - accuracy: 0.9669\n",
            "Epoch 52/100\n",
            "3/3 [==============================] - 0s 12ms/step - loss: 0.0689 - accuracy: 0.9779\n",
            "Epoch 53/100\n",
            "3/3 [==============================] - 0s 11ms/step - loss: 0.0709 - accuracy: 0.9779\n",
            "Epoch 54/100\n",
            "3/3 [==============================] - 0s 11ms/step - loss: 0.0561 - accuracy: 0.9724\n",
            "Epoch 55/100\n",
            "3/3 [==============================] - 0s 11ms/step - loss: 0.0423 - accuracy: 0.9834\n",
            "Epoch 56/100\n",
            "3/3 [==============================] - 0s 10ms/step - loss: 0.0310 - accuracy: 0.9945\n",
            "Epoch 57/100\n",
            "3/3 [==============================] - 0s 10ms/step - loss: 0.0291 - accuracy: 0.9945\n",
            "Epoch 58/100\n",
            "3/3 [==============================] - 0s 14ms/step - loss: 0.0338 - accuracy: 0.9834\n",
            "Epoch 59/100\n",
            "3/3 [==============================] - 0s 10ms/step - loss: 0.0271 - accuracy: 0.9890\n",
            "Epoch 60/100\n",
            "3/3 [==============================] - 0s 10ms/step - loss: 0.0376 - accuracy: 0.9945\n",
            "Epoch 61/100\n",
            "3/3 [==============================] - 0s 11ms/step - loss: 0.0360 - accuracy: 0.9890\n",
            "Epoch 62/100\n",
            "3/3 [==============================] - 0s 10ms/step - loss: 0.0248 - accuracy: 1.0000\n",
            "Epoch 63/100\n",
            "3/3 [==============================] - 0s 10ms/step - loss: 0.0319 - accuracy: 0.9779\n",
            "Epoch 64/100\n",
            "3/3 [==============================] - 0s 12ms/step - loss: 0.0176 - accuracy: 0.9945\n",
            "Epoch 65/100\n",
            "3/3 [==============================] - 0s 10ms/step - loss: 0.0702 - accuracy: 0.9558\n",
            "Epoch 66/100\n",
            "3/3 [==============================] - 0s 10ms/step - loss: 0.0287 - accuracy: 0.9890\n",
            "Epoch 67/100\n",
            "3/3 [==============================] - 0s 10ms/step - loss: 0.0517 - accuracy: 0.9890\n",
            "Epoch 68/100\n",
            "3/3 [==============================] - 0s 10ms/step - loss: 0.0717 - accuracy: 0.9669\n",
            "Epoch 69/100\n",
            "3/3 [==============================] - 0s 9ms/step - loss: 0.0320 - accuracy: 0.9945\n",
            "Epoch 70/100\n",
            "3/3 [==============================] - 0s 10ms/step - loss: 0.0431 - accuracy: 0.9834\n",
            "Epoch 71/100\n",
            "3/3 [==============================] - 0s 10ms/step - loss: 0.0468 - accuracy: 0.9834\n",
            "Epoch 72/100\n",
            "3/3 [==============================] - 0s 10ms/step - loss: 0.0250 - accuracy: 0.9890\n",
            "Epoch 73/100\n",
            "3/3 [==============================] - 0s 10ms/step - loss: 0.0348 - accuracy: 0.9834\n",
            "Epoch 74/100\n",
            "3/3 [==============================] - 0s 10ms/step - loss: 0.0382 - accuracy: 0.9834\n",
            "Epoch 75/100\n",
            "3/3 [==============================] - 0s 9ms/step - loss: 0.0265 - accuracy: 0.9890\n",
            "Epoch 76/100\n",
            "3/3 [==============================] - 0s 10ms/step - loss: 0.0164 - accuracy: 1.0000\n",
            "Epoch 77/100\n",
            "3/3 [==============================] - 0s 9ms/step - loss: 0.0472 - accuracy: 0.9779\n",
            "Epoch 78/100\n",
            "3/3 [==============================] - 0s 9ms/step - loss: 0.0147 - accuracy: 1.0000\n",
            "Epoch 79/100\n",
            "3/3 [==============================] - 0s 10ms/step - loss: 0.0147 - accuracy: 1.0000\n",
            "Epoch 80/100\n",
            "3/3 [==============================] - 0s 10ms/step - loss: 0.0076 - accuracy: 1.0000\n",
            "Epoch 81/100\n",
            "3/3 [==============================] - 0s 9ms/step - loss: 0.0074 - accuracy: 1.0000\n",
            "Epoch 82/100\n",
            "3/3 [==============================] - 0s 10ms/step - loss: 0.0129 - accuracy: 0.9945\n",
            "Epoch 83/100\n",
            "3/3 [==============================] - 0s 11ms/step - loss: 0.0050 - accuracy: 1.0000\n",
            "Epoch 84/100\n",
            "3/3 [==============================] - 0s 10ms/step - loss: 0.0080 - accuracy: 1.0000\n",
            "Epoch 85/100\n",
            "3/3 [==============================] - 0s 10ms/step - loss: 0.0075 - accuracy: 1.0000\n",
            "Epoch 86/100\n",
            "3/3 [==============================] - 0s 9ms/step - loss: 0.0092 - accuracy: 1.0000\n",
            "Epoch 87/100\n",
            "3/3 [==============================] - 0s 9ms/step - loss: 0.0042 - accuracy: 1.0000\n",
            "Epoch 88/100\n",
            "3/3 [==============================] - 0s 11ms/step - loss: 0.0126 - accuracy: 0.9945\n",
            "Epoch 89/100\n",
            "3/3 [==============================] - 0s 10ms/step - loss: 0.0135 - accuracy: 0.9945\n",
            "Epoch 90/100\n",
            "3/3 [==============================] - 0s 12ms/step - loss: 0.0059 - accuracy: 1.0000\n",
            "Epoch 91/100\n",
            "3/3 [==============================] - 0s 10ms/step - loss: 0.0047 - accuracy: 1.0000\n",
            "Epoch 92/100\n",
            "3/3 [==============================] - 0s 11ms/step - loss: 0.0040 - accuracy: 1.0000\n",
            "Epoch 93/100\n",
            "3/3 [==============================] - 0s 10ms/step - loss: 0.0102 - accuracy: 0.9945\n",
            "Epoch 94/100\n",
            "3/3 [==============================] - 0s 11ms/step - loss: 0.0043 - accuracy: 1.0000\n",
            "Epoch 95/100\n",
            "3/3 [==============================] - 0s 12ms/step - loss: 0.0042 - accuracy: 1.0000\n",
            "Epoch 96/100\n",
            "3/3 [==============================] - 0s 11ms/step - loss: 0.0071 - accuracy: 1.0000\n",
            "Epoch 97/100\n",
            "3/3 [==============================] - 0s 11ms/step - loss: 0.0015 - accuracy: 1.0000\n",
            "Epoch 98/100\n",
            "3/3 [==============================] - 0s 10ms/step - loss: 0.0019 - accuracy: 1.0000\n",
            "Epoch 99/100\n",
            "3/3 [==============================] - 0s 10ms/step - loss: 0.0024 - accuracy: 1.0000\n",
            "Epoch 100/100\n",
            "3/3 [==============================] - 0s 10ms/step - loss: 0.0025 - accuracy: 1.0000\n"
          ]
        }
      ]
    },
    {
      "cell_type": "code",
      "source": [
        "model.save('TrafficSigns.h5')"
      ],
      "metadata": {
        "id": "lTFkSHCnfcf8"
      },
      "execution_count": null,
      "outputs": []
    },
    {
      "cell_type": "code",
      "source": [
        "model_1=load_model('TrafficSigns.h5')"
      ],
      "metadata": {
        "id": "M9o7vlt3feXL"
      },
      "execution_count": null,
      "outputs": []
    },
    {
      "cell_type": "code",
      "source": [
        "import matplotlib.pyplot as plt\n",
        "from keras.utils import load_img\n",
        "from keras.utils.image_utils import img_to_array\n",
        "import numpy as np\n",
        "vat = {1: 'Biển báo cấm',2:'Biển báo hiệu lệnh', 3:'Biển báo chỉ dẫn', 4:'Biển báo nguy hiểm'}\n",
        "img = load_img(\"/content/drive/MyDrive/sign.png\",target_size=(30,40))\n",
        "plt.imshow(img)\n",
        "img = img_to_array(img)\n",
        "img=img.reshape(1,30,40,3)\n",
        "img = img.astype('float32')\n",
        "img =img/255\n",
        "result  = np.argmax(model.predict(img),axis=1)\n",
        "vat[result[0]]"
      ],
      "metadata": {
        "id": "McJ8KbFSfgDD",
        "colab": {
          "base_uri": "https://localhost:8080/",
          "height": 467
        },
        "outputId": "c237830d-3a5a-41f5-ebf4-ba6a43269e8a"
      },
      "execution_count": null,
      "outputs": [
        {
          "output_type": "stream",
          "name": "stdout",
          "text": [
            "1/1 [==============================] - 1s 508ms/step\n"
          ]
        },
        {
          "output_type": "execute_result",
          "data": {
            "text/plain": [
              "'Biển báo chỉ dẫn'"
            ],
            "application/vnd.google.colaboratory.intrinsic+json": {
              "type": "string"
            }
          },
          "metadata": {},
          "execution_count": 13
        },
        {
          "output_type": "display_data",
          "data": {
            "text/plain": [
              "<Figure size 640x480 with 1 Axes>"
            ],
            "image/png": "[encoded data removed]"
          },
          "metadata": {}
        }
      ]
    },
    {
      "cell_type": "code",
      "source": [],
      "metadata": {
        "id": "Yh8Lik_NrQiM"
      },
      "execution_count": null,
      "outputs": []
    }
  ]
}